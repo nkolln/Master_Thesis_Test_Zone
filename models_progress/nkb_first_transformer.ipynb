{
 "cells": [
  {
   "attachments": {},
   "cell_type": "markdown",
   "metadata": {},
   "source": [
    "# Goal of Notebook\n",
    "\n",
    "Create a transformer up to the code of 'Attention is all you need' for a case of giving it an input sequence and it would have to try to predict the output.<br>\n",
    "Processes are per - timestep ( note : not per - token )\n",
    "\n",
    "Done Task:\n",
    "Positional Encoding\n",
    "\n",
    "Current Task:\n",
    "Embeddings of input(does it work for words and numbers?)\n",
    "\n",
    "Next Task:\n",
    "Attention (It is copied input, x = self.sublayer[0](x, lambda x: self.self_attn(x, x, x, mask)))\n",
    "Multi head Attention\n",
    "Layer Norm"
   ]
  },
  {
   "cell_type": "code",
   "execution_count": 1,
   "metadata": {},
   "outputs": [
    {
     "name": "stderr",
     "output_type": "stream",
     "text": [
      "/home/nkolln/mt/vis10/lib/python3.10/site-packages/tqdm/auto.py:22: TqdmWarning: IProgress not found. Please update jupyter and ipywidgets. See https://ipywidgets.readthedocs.io/en/stable/user_install.html\n",
      "  from .autonotebook import tqdm as notebook_tqdm\n"
     ]
    }
   ],
   "source": [
    "from torch import nn\n",
    "import torch\n",
    "import numpy as np\n",
    "import math\n",
    "import torch.nn.functional as f\n",
    "import copy\n"
   ]
  },
  {
   "cell_type": "code",
   "execution_count": 2,
   "metadata": {},
   "outputs": [],
   "source": [
    "#Input is a single list of tensors\n",
    "#output is an array of size list by dimension\n",
    "#This is constant?? Simpy add to layer\n",
    "def positional_encoding(dim,max_len=1000):\n",
    "    arr_pe = torch.zeros(max_len,dim)\n",
    "    #Creates an array for the positions of rows\n",
    "    arr_pos = torch.arange(0,max_len).unsqueeze(1)\n",
    "    #Sine and cosine are applied an alternating dims so half are generated(Sin and cos apply to same subset basically to have the different outputs)\n",
    "    div_term = torch.exp(torch.arange(0, dim, 2) * -(math.log(10000.0) / dim))\n",
    "    #basically multipleis the 0-max len values by the div term which is unique per dim\n",
    "    temp = arr_pos*div_term\n",
    "    arr_pe[:,0::2]= torch.sin(temp)\n",
    "    arr_pe[:,1::2]= torch.cos(temp)\n",
    "    return(arr_pe.unsqueeze(0))\n",
    "\n",
    "def scaled_dot_product_attention(q,k,v,dim):\n",
    "    print(k)\n",
    "    q_k = torch.matmul(q,k.T)\n",
    "    q_k_scale = q_k * math.sqrt(dim)\n",
    "    #can add a mask here\n",
    "\n",
    "    q_k_scale = f.softmax(q_k_scale,dim=1)\n",
    "    attn = torch.matmul(q_k_scale,v)\n",
    "    return(attn)\n",
    "\n",
    "def clones(component,N):\n",
    "    return(nn.ModuleList([copy.deepcopy(component)for _ in range(0,N)]))\n",
    "\n",
    "\n",
    "pe = positional_encoding(20)\n",
    "    "
   ]
  },
  {
   "cell_type": "code",
   "execution_count": 51,
   "metadata": {},
   "outputs": [
    {
     "name": "stdout",
     "output_type": "stream",
     "text": [
      "torch.Size([2, 3, 512])\n",
      "tensor([[[-1.0572, -1.3308,  0.5802,  ..., -0.6959,  1.3029, -0.0801],\n",
      "         [ 0.4477, -1.1618, -0.9530,  ...,  1.3338,  0.7754,  1.1468],\n",
      "         [-1.7042,  0.7498,  0.5346,  ...,  0.1864, -0.6773, -1.8943]],\n",
      "\n",
      "        [[-1.7042,  0.7498,  0.5346,  ...,  0.1864, -0.6773, -1.8943],\n",
      "         [ 0.2036,  1.9969, -0.2026,  ..., -1.8149,  0.2619,  0.6535],\n",
      "         [ 0.4477, -1.1618, -0.9530,  ...,  1.3338,  0.7754,  1.1468]]],\n",
      "       grad_fn=<EmbeddingBackward0>)\n"
     ]
    }
   ],
   "source": [
    "#Embedding\n",
    "#Embedding only works for discrete (Can we just set a ridiculously large embedding and treat continuous values as discrete)(Can we use convolutional kernels possibly?)\n",
    "#Embedding embedds and then creates linear layers to make the v,k,q from same data,then process through scaled product attention, concat and apply final linear.\n",
    "class EmbeddingLayer(nn.Module):\n",
    "    def __init__(self,dic_size,dim,size):\n",
    "        super().__init__()\n",
    "        # self.dc = dic_size\n",
    "        self.dim = dim\n",
    "        self.embedding = nn.Embedding(dic_size,dim)\n",
    "        self.pe = positional_encoding(dim,size)\n",
    "\n",
    "    def forward(self,x):\n",
    "        x = self.embedding(x) \n",
    "        #x = x* math.sqrt(self.dim)\n",
    "        print(x.shape)\n",
    "        #x = x + self.pe\n",
    "        return x,pe\n",
    "\n",
    "\n",
    "\n",
    "class AttentionHead(nn.Module):\n",
    "    def __init__(self,l_layer):\n",
    "        super().__init__()\n",
    "        \n",
    "        self.l1 = nn.Linear(l_layer,l_layer)\n",
    "        self.l2 = nn.Linear(l_layer,l_layer)\n",
    "        self.l3 = nn.Linear(l_layer,l_layer)\n",
    "    def forward(self,x):\n",
    "        q = f.relu(self.l1(x))\n",
    "        k = f.relu(self.l2(x))\n",
    "        v = f.relu(self.l3(x))\n",
    "        return(x,q,k,v)\n",
    "\n",
    "class MultiHeadAttention(nn.Module):\n",
    "    def __init__(self):\n",
    "        super().__init__()\n",
    "\n",
    "\n",
    "input = torch.LongTensor([[1,2,4],[4,3,2]])\n",
    "data = input\n",
    "dic_size = 1000;embed_size=512;attn_layer_size = embed_size\n",
    "el = EmbeddingLayer(dic_size,embed_size,input.shape[1])\n",
    "# print(type(data))\n",
    "embed,pe = el(data)\n",
    "print(embed)\n",
    "attnhead = AttentionHead(attn_layer_size)\n",
    "# print(attnhead(embed)[1])\n",
    "# attnhead(embed)[1]"
   ]
  },
  {
   "cell_type": "code",
   "execution_count": null,
   "metadata": {},
   "outputs": [],
   "source": []
  },
  {
   "cell_type": "code",
   "execution_count": null,
   "metadata": {},
   "outputs": [],
   "source": []
  },
  {
   "attachments": {},
   "cell_type": "markdown",
   "metadata": {},
   "source": [
    "# Testing"
   ]
  },
  {
   "cell_type": "code",
   "execution_count": 56,
   "metadata": {},
   "outputs": [],
   "source": [
    "class PositionalEncoding(nn.Module):\n",
    "    \"Implement the PE function.\"\n",
    "\n",
    "    def __init__(self, d_model, dropout, max_len=5000):\n",
    "        super(PositionalEncoding, self).__init__()\n",
    "        self.dropout = nn.Dropout(p=dropout)\n",
    "\n",
    "        # Compute the positional encodings once in log space.\n",
    "        pe = torch.zeros(max_len, d_model)\n",
    "        position = torch.arange(0, max_len).unsqueeze(1)\n",
    "        div_term = torch.exp(\n",
    "            torch.arange(0, d_model, 2) * -(math.log(10000.0) / d_model)\n",
    "        )\n",
    "        pe[:, 0::2] = torch.sin(position * div_term)\n",
    "        pe[:, 1::2] = torch.cos(position * div_term)\n",
    "        pe = pe.unsqueeze(0)\n",
    "        self.register_buffer(\"pe\", pe)\n",
    "\n",
    "    def forward(self, x):\n",
    "        print(x.shape)\n",
    "        print(self.pe.shape)\n",
    "        x = x + self.pe[:, : x.size(1)].requires_grad_(False)\n",
    "        return self.dropout(x)\n",
    "\n",
    "class TestClass(nn.Module):\n",
    "    def __init__(self,position):\n",
    "        super(TestClass,self).__init__()\n",
    "        self.layer = nn.Sequential(nn.Embedding(1000, 512),position)\n",
    "    \n",
    "    def forward(self,x):\n",
    "        return self.layer(x)\n"
   ]
  },
  {
   "cell_type": "code",
   "execution_count": 69,
   "metadata": {},
   "outputs": [
    {
     "name": "stdout",
     "output_type": "stream",
     "text": [
      "torch.Size([2, 3])\n",
      "torch.Size([2, 3, 512])\n",
      "torch.Size([1, 5000, 512])\n",
      "torch.Size([2, 3, 512])\n"
     ]
    },
    {
     "data": {
      "text/plain": [
       "tensor([[[ 0.1705,  2.2181, -0.0212,  ...,  0.8106,  0.7591, -0.2599],\n",
       "         [-0.0576,  1.6933,  1.4200,  ...,  1.1282, -1.1444,  1.1106],\n",
       "         [ 2.3810,  0.7858,  0.2128,  ...,  1.8807,  0.8289,  2.0980]],\n",
       "\n",
       "        [[ 1.4717,  2.2020, -0.7236,  ...,  1.8807,  0.8287,  2.0980],\n",
       "         [ 3.0392, -0.1269,  1.9517,  ..., -0.2170, -0.0198,  1.2920],\n",
       "         [ 0.0102,  0.7368,  1.5346,  ...,  1.1282, -1.1442,  1.1106]]],\n",
       "       grad_fn=<AddBackward0>)"
      ]
     },
     "execution_count": 69,
     "metadata": {},
     "output_type": "execute_result"
    }
   ],
   "source": [
    "position = PositionalEncoding(512, 0)\n",
    "test = TestClass(position)\n",
    "print(input.shape)\n",
    "out = test(data)\n",
    "print(out.shape)\n",
    "out"
   ]
  },
  {
   "cell_type": "code",
   "execution_count": 53,
   "metadata": {},
   "outputs": [
    {
     "name": "stdout",
     "output_type": "stream",
     "text": [
      "torch.Size([1, 1000, 20])\n"
     ]
    },
    {
     "data": {
      "text/plain": [
       "torch.Size([1, 10, 20])"
      ]
     },
     "execution_count": 53,
     "metadata": {},
     "output_type": "execute_result"
    }
   ],
   "source": [
    "print(pe.shape)\n",
    "pe[:, : 10].shape"
   ]
  },
  {
   "cell_type": "code",
   "execution_count": 4,
   "metadata": {},
   "outputs": [
    {
     "data": {
      "text/plain": [
       "torch.Tensor"
      ]
     },
     "execution_count": 4,
     "metadata": {},
     "output_type": "execute_result"
    }
   ],
   "source": [
    "type(torch.exp(torch.arange(0, 20, 2, dtype=torch.float32) * -(math.log(10000.0) / 20)))"
   ]
  },
  {
   "cell_type": "code",
   "execution_count": 3,
   "metadata": {},
   "outputs": [
    {
     "data": {
      "text/plain": [
       "tensor([ 0.,  2.,  4.,  6.,  8., 10., 12., 14., 16., 18.])"
      ]
     },
     "execution_count": 3,
     "metadata": {},
     "output_type": "execute_result"
    }
   ],
   "source": [
    "torch.arange(0, 20, 2, dtype=torch.float)"
   ]
  },
  {
   "cell_type": "code",
   "execution_count": 2,
   "metadata": {},
   "outputs": [],
   "source": [
    "V=11; batch_size = 30\n",
    "data = torch.randint(1, V, size=(batch_size, 10))\n",
    "data[:, 0] = 1\n",
    "src = data.requires_grad_(False).clone().detach()\n",
    "tgt = data.requires_grad_(False).clone().detach()"
   ]
  },
  {
   "cell_type": "code",
   "execution_count": 10,
   "metadata": {},
   "outputs": [
    {
     "data": {
      "text/plain": [
       "(array([], dtype=int64), array([], dtype=int64))"
      ]
     },
     "execution_count": 10,
     "metadata": {},
     "output_type": "execute_result"
    }
   ],
   "source": [
    "np.where(src!=tgt)"
   ]
  },
  {
   "cell_type": "code",
   "execution_count": 22,
   "metadata": {},
   "outputs": [
    {
     "name": "stdout",
     "output_type": "stream",
     "text": [
      "tensor([[  0,   0,   0],\n",
      "        [  0,  50, 100],\n",
      "        [  0, 100, 200],\n",
      "        [  0, 150, 300]])\n",
      "tensor([[ 0.0000,  1.0000,  0.0000,  1.0000,  0.0000,  1.0000],\n",
      "        [ 0.0000,  1.0000, -0.2624,  0.9650, -0.5064,  0.8623],\n",
      "        [ 0.0000,  1.0000, -0.5064,  0.8623, -0.8733,  0.4872],\n",
      "        [ 0.0000,  1.0000, -0.7149,  0.6993, -0.9998, -0.0221]])\n"
     ]
    }
   ],
   "source": [
    "arr = torch.zeros(4,6)\n",
    "tmp = (torch.arange(0,17,5).unsqueeze(1)*torch.arange(0,30,10))\n",
    "print(tmp)\n",
    "arr[:,0::2]=torch.sin(tmp)\n",
    "arr[:,1::2]=torch.cos(tmp)\n",
    "print(arr)"
   ]
  },
  {
   "cell_type": "code",
   "execution_count": 78,
   "metadata": {},
   "outputs": [
    {
     "name": "stdout",
     "output_type": "stream",
     "text": [
      "tensor([[0.8151, 1.3661, 1.1932]], grad_fn=<EmbeddingBackward0>)\n"
     ]
    }
   ],
   "source": [
    "# an Embedding module containing 10 tensors of size 3\n",
    "embedding = nn.Embedding(100, 3)\n",
    "# a batch of 2 samples of 4 indices each\n",
    "input = torch.LongTensor([[1,2,4],[4,3,2]])\n",
    "input = torch.randn(1)\n",
    "input = input.long()\n",
    "embedding(input)\n",
    "print(embedding(input))\n",
    "\n"
   ]
  },
  {
   "cell_type": "code",
   "execution_count": 42,
   "metadata": {},
   "outputs": [
    {
     "name": "stdout",
     "output_type": "stream",
     "text": [
      "tensor([[[ 0.0326,  1.5697,  2.0568],\n",
      "         [-0.0909, -0.0345, -0.1071],\n",
      "         [ 0.0105, -0.3593,  0.5579],\n",
      "         [-0.0909, -0.0345, -0.1071]],\n",
      "\n",
      "        [[ 0.0105, -0.3593,  0.5579],\n",
      "         [ 0.5077,  0.0521,  0.0648],\n",
      "         [-0.0909, -0.0345, -0.1071],\n",
      "         [ 0.0326,  1.5697,  2.0568]]], grad_fn=<EmbeddingBackward0>)\n"
     ]
    }
   ],
   "source": [
    "# an Embedding module containing 10 tensors of size 3\n",
    "embedding = nn.Embedding(5, 3)\n",
    "# a batch of 2 samples of 4 indices each\n",
    "input = torch.LongTensor([[1,2,4,2],[4,3,2,1]])\n",
    "embedding(input)\n",
    "print(embedding(input))\n",
    "\n"
   ]
  },
  {
   "attachments": {},
   "cell_type": "markdown",
   "metadata": {},
   "source": [
    "# Old Code"
   ]
  },
  {
   "cell_type": "code",
   "execution_count": 70,
   "metadata": {},
   "outputs": [
    {
     "name": "stdout",
     "output_type": "stream",
     "text": [
      "torch.Size([2, 3, 512])\n",
      "tensor([[[-0.0382,  0.7443, -0.7847,  ..., -0.3645, -1.9231, -0.4937],\n",
      "         [ 1.9632,  0.8879,  0.8878,  ..., -0.4422,  0.0637,  0.5649],\n",
      "         [ 0.0391,  0.8868,  0.8470,  ...,  0.4675, -1.5627,  1.2016]],\n",
      "\n",
      "        [[ 0.0391,  0.8868,  0.8470,  ...,  0.4675, -1.5627,  1.2016],\n",
      "         [ 1.6990,  1.3319, -0.3974,  ..., -1.2178,  0.6342, -0.0397],\n",
      "         [ 1.9632,  0.8879,  0.8878,  ..., -0.4422,  0.0637,  0.5649]]],\n",
      "       grad_fn=<EmbeddingBackward0>)\n"
     ]
    }
   ],
   "source": [
    "#Embedding\n",
    "#Embedding only works for discrete (Can we just set a ridiculously large embedding and treat continuous values as discrete)(Can we use convolutional kernels possibly?)\n",
    "#Embedding embedds and then creates linear layers to make the v,k,q from same data,then process through scaled product attention, concat and apply final linear.\n",
    "class EmbeddingLayer(nn.Module):\n",
    "    def __init__(self,dic_size,dim,size):\n",
    "        super().__init__()\n",
    "        # self.dc = dic_size\n",
    "        self.dim = dim\n",
    "        self.embedding = nn.Embedding(dic_size,dim)\n",
    "        self.pe = positional_encoding(dim,size)\n",
    "\n",
    "    def forward(self,x):\n",
    "        x = self.embedding(x) \n",
    "        #x = x* math.sqrt(self.dim)\n",
    "        print(x.shape)\n",
    "        #x = x + self.pe\n",
    "        return x,pe\n",
    "\n",
    "\n",
    "\n",
    "class AttentionHead(nn.Module):\n",
    "    def __init__(self,l_layer):\n",
    "        super().__init__()\n",
    "        \n",
    "        self.l1 = nn.Linear(l_layer,l_layer)\n",
    "        self.l2 = nn.Linear(l_layer,l_layer)\n",
    "        self.l3 = nn.Linear(l_layer,l_layer)\n",
    "    def forward(self,x):\n",
    "        q = f.relu(self.l1(x))\n",
    "        k = f.relu(self.l2(x))\n",
    "        v = f.relu(self.l3(x))\n",
    "        return(x,q,k,v)\n",
    "\n",
    "\n",
    "input = torch.LongTensor([[1,2,4],[4,3,2]])\n",
    "data = input\n",
    "dic_size = 1000;embed_size=512;attn_layer_size = embed_size\n",
    "el = EmbeddingLayer(dic_size,embed_size,input.shape[1])\n",
    "# print(type(data))\n",
    "embed,pe = el(data)\n",
    "print(embed)\n",
    "attnhead = AttentionHead(attn_layer_size)\n",
    "# print(attnhead(embed)[1])\n",
    "# attnhead(embed)[1]"
   ]
  },
  {
   "cell_type": "code",
   "execution_count": null,
   "metadata": {},
   "outputs": [],
   "source": []
  }
 ],
 "metadata": {
  "kernelspec": {
   "display_name": "vis10",
   "language": "python",
   "name": "python3"
  },
  "language_info": {
   "codemirror_mode": {
    "name": "ipython",
    "version": 3
   },
   "file_extension": ".py",
   "mimetype": "text/x-python",
   "name": "python",
   "nbconvert_exporter": "python",
   "pygments_lexer": "ipython3",
   "version": "3.10.8 (main, Oct 12 2022, 19:14:26) [GCC 9.4.0]"
  },
  "orig_nbformat": 4,
  "vscode": {
   "interpreter": {
    "hash": "e5328d19f01c96b26b2b58c1c0757ffb719f3cd8060448ceb902d5879c439f16"
   }
  }
 },
 "nbformat": 4,
 "nbformat_minor": 2
}
