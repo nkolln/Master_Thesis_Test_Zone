{
 "cells": [
  {
   "attachments": {},
   "cell_type": "markdown",
   "metadata": {},
   "source": [
    "# Goal of Notebook\n",
    "\n",
    "Create a transformer up to the code of 'Attention is all you need' for a case of giving it an input sequence and it would have to try to predict the output.<br>\n",
    "Processes are per - timestep ( note : not per - token )\n",
    "\n",
    "Done Task:\n",
    "Positional Encoding\n",
    "\n",
    "Current Task:\n",
    "Embeddings of input(does it work for words and numbers?)\n",
    "\n",
    "Next Task:\n",
    "Attention (It is copied input, x = self.sublayer[0](x, lambda x: self.self_attn(x, x, x, mask)))\n",
    "Multi head Attention\n",
    "Layer Norm"
   ]
  },
  {
   "cell_type": "code",
   "execution_count": 2,
   "metadata": {},
   "outputs": [
    {
     "name": "stderr",
     "output_type": "stream",
     "text": [
      "/home/nkolln/mt/vis10/lib/python3.10/site-packages/tqdm/auto.py:22: TqdmWarning: IProgress not found. Please update jupyter and ipywidgets. See https://ipywidgets.readthedocs.io/en/stable/user_install.html\n",
      "  from .autonotebook import tqdm as notebook_tqdm\n"
     ]
    }
   ],
   "source": [
    "from torch import nn\n",
    "import torch\n",
    "import numpy as np\n",
    "import math\n",
    "import torch.nn.functional as f\n",
    "import copy\n"
   ]
  },
  {
   "cell_type": "code",
   "execution_count": 3,
   "metadata": {},
   "outputs": [],
   "source": [
    "#Input is a single list of tensors\n",
    "#output is an array of size list by dimension\n",
    "#This is constant?? Simpy add to layer\n",
    "def positional_encoding(dim,max_len=1000):\n",
    "    arr_pe = torch.zeros(max_len,dim)\n",
    "    #Creates an array for the positions of rows\n",
    "    arr_pos = torch.arange(0,max_len).unsqueeze(1)\n",
    "    #Sine and cosine are applied an alternating dims so half are generated(Sin and cos apply to same subset basically to have the different outputs)\n",
    "    div_term = torch.exp(torch.arange(0, dim, 2) * -(math.log(10000.0) / dim))\n",
    "    #basically multipleis the 0-max len values by the div term which is unique per dim\n",
    "    temp = arr_pos*div_term\n",
    "    arr_pe[:,0::2]= torch.sin(temp)\n",
    "    arr_pe[:,1::2]= torch.cos(temp)\n",
    "    return(arr_pe.unsqueeze(0))\n",
    "\n",
    "def scaled_dot_product_attention(q,k,v,dim):\n",
    "    q_k = torch.matmul(q,k.T)\n",
    "    q_k_scale = q_k * math.sqrt(dim)\n",
    "    #can add a mask here\n",
    "\n",
    "    q_k_scale = f.softmax(q_k_scale,dim=1)\n",
    "    attn = torch.matmul(q_k_scale,v)\n",
    "    return(attn)\n",
    "\n",
    "def clones(component,N):\n",
    "    return(nn.ModuleList([copy.deepcopy(component)for _ in range(0,N)]))\n",
    "\n",
    "\n",
    "pe = positional_encoding(20)\n",
    "    "
   ]
  },
  {
   "cell_type": "code",
   "execution_count": 51,
   "metadata": {},
   "outputs": [
    {
     "name": "stdout",
     "output_type": "stream",
     "text": [
      "torch.Size([2, 3, 512])\n",
      "tensor([[[-1.0572, -1.3308,  0.5802,  ..., -0.6959,  1.3029, -0.0801],\n",
      "         [ 0.4477, -1.1618, -0.9530,  ...,  1.3338,  0.7754,  1.1468],\n",
      "         [-1.7042,  0.7498,  0.5346,  ...,  0.1864, -0.6773, -1.8943]],\n",
      "\n",
      "        [[-1.7042,  0.7498,  0.5346,  ...,  0.1864, -0.6773, -1.8943],\n",
      "         [ 0.2036,  1.9969, -0.2026,  ..., -1.8149,  0.2619,  0.6535],\n",
      "         [ 0.4477, -1.1618, -0.9530,  ...,  1.3338,  0.7754,  1.1468]]],\n",
      "       grad_fn=<EmbeddingBackward0>)\n"
     ]
    }
   ],
   "source": [
    "#Embedding\n",
    "#Embedding only works for discrete (Can we just set a ridiculously large embedding and treat continuous values as discrete)(Can we use convolutional kernels possibly?)\n",
    "#Embedding embedds and then creates linear layers to make the v,k,q from same data,then process through scaled product attention, concat and apply final linear.\n",
    "class EmbeddingLayer(nn.Module):\n",
    "    def __init__(self,dic_size,dim,size):\n",
    "        super().__init__()\n",
    "        # self.dc = dic_size\n",
    "        self.dim = dim\n",
    "        self.embedding = nn.Embedding(dic_size,dim)\n",
    "        self.pe = positional_encoding(dim,size)\n",
    "\n",
    "    def forward(self,x):\n",
    "        x = self.embedding(x) \n",
    "        #x = x* math.sqrt(self.dim)\n",
    "        print(x.shape)\n",
    "        #x = x + self.pe\n",
    "        return x,pe\n",
    "\n",
    "\n",
    "\n",
    "class AttentionHead(nn.Module):\n",
    "    def __init__(self,l_layer):\n",
    "        super().__init__()\n",
    "        \n",
    "        self.l1 = nn.Linear(l_layer,l_layer)\n",
    "        self.l2 = nn.Linear(l_layer,l_layer)\n",
    "        self.l3 = nn.Linear(l_layer,l_layer)\n",
    "    def forward(self,x):\n",
    "        q = f.relu(self.l1(x))\n",
    "        k = f.relu(self.l2(x))\n",
    "        v = f.relu(self.l3(x))\n",
    "        return(x,q,k,v)\n",
    "\n",
    "class MultiHeadAttention(nn.Module):\n",
    "    def __init__(self):\n",
    "        super().__init__()\n",
    "\n",
    "\n",
    "input = torch.LongTensor([[1,2,4],[4,3,2]])\n",
    "data = input\n",
    "dic_size = 1000;embed_size=512;attn_layer_size = embed_size\n",
    "el = EmbeddingLayer(dic_size,embed_size,input.shape[1])\n",
    "# print(type(data))\n",
    "embed,pe = el(data)\n",
    "print(embed)\n",
    "attnhead = AttentionHead(attn_layer_size)\n",
    "# print(attnhead(embed)[1])\n",
    "# attnhead(embed)[1]"
   ]
  },
  {
   "cell_type": "code",
   "execution_count": 5,
   "metadata": {},
   "outputs": [],
   "source": [
    "def attention(query, key, value, mask=None, dropout=None):\n",
    "    \"Compute 'Scaled Dot Product Attention'\"\n",
    "    d_k = query.size(-1)\n",
    "    scores = torch.matmul(query, key.transpose(-2, -1)) / math.sqrt(d_k)\n",
    "    if mask is not None:\n",
    "        scores = scores.masked_fill(mask == 0, -1e9)\n",
    "    p_attn = scores.softmax(dim=-1)\n",
    "    if dropout is not None:\n",
    "        p_attn = dropout(p_attn)\n",
    "    return torch.matmul(p_attn, value), p_attn\n",
    "class MultiHeadedAttention(nn.Module):\n",
    "    def __init__(self, h, d_model, dropout=0.1):\n",
    "        \"Take in model size and number of heads.\"\n",
    "        super(MultiHeadedAttention, self).__init__()\n",
    "        assert d_model % h == 0\n",
    "        # We assume d_v always equals d_k\n",
    "        self.d_k = d_model // h\n",
    "        self.h = h\n",
    "        self.linears = clones(nn.Linear(d_model, d_model), 4)\n",
    "        self.attn = None\n",
    "        self.dropout = nn.Dropout(p=dropout)\n",
    "\n",
    "    def forward(self, query, key, value, mask=None):\n",
    "        \"Implements Figure 2\"\n",
    "        if mask is not None:\n",
    "            # Same mask applied to all h heads.\n",
    "            mask = mask.unsqueeze(1)\n",
    "        nbatches = query.size(0)\n",
    "\n",
    "        # 1) Do all the linear projections in batch from d_model => h x d_k\n",
    "        query, key, value = [\n",
    "            lin(x).view(nbatches, -1, self.h, self.d_k).transpose(1, 2)\n",
    "            for lin, x in zip(self.linears, (query, key, value))\n",
    "        ]\n",
    "        print(query.shape)\n",
    "\n",
    "        # 2) Apply attention on all the projected vectors in batch.\n",
    "        x, self.attn = attention(\n",
    "            query, key, value, mask=mask, dropout=self.dropout\n",
    "        )\n",
    "\n",
    "        # 3) \"Concat\" using a view and apply a final linear.\n",
    "        x = (\n",
    "            x.transpose(1, 2)\n",
    "            .contiguous()\n",
    "            .view(nbatches, -1, self.h * self.d_k)\n",
    "        )\n",
    "        del query\n",
    "        del key\n",
    "        del value\n",
    "        return self.linears[-1](x)"
   ]
  },
  {
   "attachments": {},
   "cell_type": "markdown",
   "metadata": {},
   "source": [
    "## Architecture"
   ]
  },
  {
   "cell_type": "code",
   "execution_count": 6,
   "metadata": {},
   "outputs": [],
   "source": [
    "class EncoderDecoder(nn.Module):\n",
    "    \"\"\"\n",
    "    A standard Encoder-Decoder architecture. Base for this and many\n",
    "    other models.\n",
    "    \"\"\"\n",
    "\n",
    "    def __init__(self, encoder, decoder, src_embed, tgt_embed, generator):\n",
    "        super(EncoderDecoder, self).__init__()\n",
    "        self.encoder = encoder\n",
    "        self.decoder = decoder\n",
    "        self.src_embed = src_embed\n",
    "        self.tgt_embed = tgt_embed\n",
    "        self.generator = generator\n",
    "\n",
    "    def forward(self, src, tgt, src_mask, tgt_mask):\n",
    "        \"Take in and process masked src and target sequences.\"\n",
    "        return self.decode(self.encode(src, src_mask), src_mask, tgt, tgt_mask)\n",
    "\n",
    "    def encode(self, src, src_mask):\n",
    "        return self.encoder(self.src_embed(src), src_mask)\n",
    "\n",
    "    def decode(self, memory, src_mask, tgt, tgt_mask):\n",
    "        return self.decoder(self.tgt_embed(tgt), memory, src_mask, tgt_mask)\n",
    "\n",
    "class Encoder(nn.Module):\n",
    "    \"Core encoder is a stack of N layers\"\n",
    "\n",
    "    def __init__(self, layer, N):\n",
    "        super(Encoder, self).__init__()\n",
    "        self.layers = clones(layer, N)\n",
    "        self.norm = LayerNorm(layer.size)\n",
    "\n",
    "    def forward(self, x, mask):\n",
    "        \"Pass the input (and mask) through each layer in turn.\"\n",
    "        for layer in self.layers:\n",
    "            x = layer(x, mask)\n",
    "        return self.norm(x)\n",
    "\n",
    "class EncoderLayer(nn.Module):\n",
    "    \"Encoder is made up of self-attn and feed forward (defined below)\"\n",
    "\n",
    "    def __init__(self, size, self_attn, feed_forward, dropout):\n",
    "        super(EncoderLayer, self).__init__()\n",
    "        self.self_attn = self_attn\n",
    "        self.feed_forward = feed_forward\n",
    "        self.sublayer = clones(SublayerConnection(size, dropout), 2)\n",
    "        self.size = size\n",
    "\n",
    "    def forward(self, x, mask):\n",
    "        \"Follow Figure 1 (left) for connections.\"\n",
    "        x = self.sublayer[0](x, lambda x: self.self_attn(x, x, x, mask))\n",
    "        return self.sublayer[1](x, self.feed_forward)\n",
    "\n",
    "class Decoder(nn.Module):\n",
    "    \"Generic N layer decoder with masking.\"\n",
    "\n",
    "    def __init__(self, layer, N):\n",
    "        super(Decoder, self).__init__()\n",
    "        self.layers = clones(layer, N)\n",
    "        self.norm = LayerNorm(layer.size)\n",
    "\n",
    "    def forward(self, x, memory, src_mask, tgt_mask):\n",
    "        for layer in self.layers:\n",
    "            x = layer(x, memory, src_mask, tgt_mask)\n",
    "        return self.norm(x)\n",
    "\n",
    "class DecoderLayer(nn.Module):\n",
    "    \"Decoder is made of self-attn, src-attn, and feed forward (defined below)\"\n",
    "\n",
    "    def __init__(self, size, self_attn, src_attn, feed_forward, dropout):\n",
    "        super(DecoderLayer, self).__init__()\n",
    "        self.size = size\n",
    "        self.self_attn = self_attn\n",
    "        self.src_attn = src_attn\n",
    "        self.feed_forward = feed_forward\n",
    "        self.sublayer = clones(SublayerConnection(size, dropout), 3)\n",
    "\n",
    "    def forward(self, x, memory, src_mask, tgt_mask):\n",
    "        \"Follow Figure 1 (right) for connections.\"\n",
    "        m = memory\n",
    "        x = self.sublayer[0](x, lambda x: self.self_attn(x, x, x, tgt_mask))\n",
    "        x = self.sublayer[1](x, lambda x: self.src_attn(x, m, m, src_mask))\n",
    "        return self.sublayer[2](x, self.feed_forward)"
   ]
  },
  {
   "cell_type": "code",
   "execution_count": 7,
   "metadata": {},
   "outputs": [],
   "source": [
    "class LayerNorm(nn.Module):\n",
    "    \"Construct a layernorm module (See citation for details).\"\n",
    "\n",
    "    def __init__(self, features, eps=1e-6):\n",
    "        super(LayerNorm, self).__init__()\n",
    "        self.a_2 = nn.Parameter(torch.ones(features))\n",
    "        self.b_2 = nn.Parameter(torch.zeros(features))\n",
    "        self.eps = eps\n",
    "\n",
    "    def forward(self, x):\n",
    "        mean = x.mean(-1, keepdim=True)\n",
    "        std = x.std(-1, keepdim=True)\n",
    "        return self.a_2 * (x - mean) / (std + self.eps) + self.b_2\n",
    "\n",
    "#Order of components seems not to be important\n",
    "#This is done to help with the vanishing gradient problem in backpropagation\n",
    "class SublayerConnection(nn.Module):\n",
    "    \"\"\"\n",
    "    A residual connection followed by a layer norm.\n",
    "    Note for code simplicity the norm is first as opposed to last.\n",
    "    \"\"\"\n",
    "\n",
    "    def __init__(self, size, dropout):\n",
    "        super(SublayerConnection, self).__init__()\n",
    "        self.norm = LayerNorm(size)\n",
    "        self.dropout = nn.Dropout(dropout)\n",
    "\n",
    "    def forward(self, x, sublayer):\n",
    "        \"Apply residual connection to any sublayer with the same size.\"\n",
    "        return x + self.dropout(sublayer(self.norm(x)))"
   ]
  },
  {
   "attachments": {},
   "cell_type": "markdown",
   "metadata": {},
   "source": [
    "## connections"
   ]
  },
  {
   "cell_type": "code",
   "execution_count": 8,
   "metadata": {},
   "outputs": [],
   "source": [
    "class Embeddings(nn.Module):\n",
    "    def __init__(self, d_model, vocab):\n",
    "        super(Embeddings, self).__init__()\n",
    "        self.lut = nn.Embedding(vocab, d_model)\n",
    "        self.d_model = d_model\n",
    "\n",
    "    def forward(self, x):\n",
    "        return self.lut(x) * math.sqrt(self.d_model)\n",
    "\n",
    "class PositionwiseFeedForward(nn.Module):\n",
    "    \"Implements FFN equation.\"\n",
    "\n",
    "    def __init__(self, d_model, d_ff, dropout=0.1):\n",
    "        super(PositionwiseFeedForward, self).__init__()\n",
    "        self.w_1 = nn.Linear(d_model, d_ff)\n",
    "        self.w_2 = nn.Linear(d_ff, d_model)\n",
    "        self.dropout = nn.Dropout(dropout)\n",
    "\n",
    "    def forward(self, x):\n",
    "        return self.w_2(self.dropout(self.w_1(x).relu()))\n",
    "\n",
    "class PositionalEncoding(nn.Module):\n",
    "    \"Implement the PE function.\"\n",
    "\n",
    "    def __init__(self, d_model, dropout, max_len=5000):\n",
    "        super(PositionalEncoding, self).__init__()\n",
    "        self.dropout = nn.Dropout(p=dropout)\n",
    "\n",
    "        # Compute the positional encodings once in log space.\n",
    "        pe = torch.zeros(max_len, d_model)\n",
    "        position = torch.arange(0, max_len).unsqueeze(1)\n",
    "        div_term = torch.exp(\n",
    "            torch.arange(0, d_model, 2) * -(math.log(10000.0) / d_model)\n",
    "        )\n",
    "        pe[:, 0::2] = torch.sin(position * div_term)\n",
    "        pe[:, 1::2] = torch.cos(position * div_term)\n",
    "        pe = pe.unsqueeze(0)\n",
    "        self.register_buffer(\"pe\", pe)\n",
    "\n",
    "    def forward(self, x):\n",
    "        x = x + self.pe[:, : x.size(1)].requires_grad_(False)\n",
    "        return self.dropout(x)\n",
    "\n",
    "class Generator(nn.Module):\n",
    "    \"Define standard linear + softmax generation step.\"\n",
    "\n",
    "    def __init__(self, d_model, vocab):\n",
    "        super(Generator, self).__init__()\n",
    "        self.proj = nn.Linear(d_model, vocab)\n",
    "\n",
    "    def forward(self, x):\n",
    "        return log_softmax(self.proj(x), dim=-1)"
   ]
  },
  {
   "cell_type": "code",
   "execution_count": 9,
   "metadata": {},
   "outputs": [],
   "source": [
    "\n",
    "def subsequent_mask(size):\n",
    "    \"Mask out subsequent positions.\"\n",
    "    attn_shape = (1, size, size)\n",
    "    subsequent_mask = torch.triu(torch.ones(attn_shape), diagonal=1).type(\n",
    "        torch.uint8\n",
    "    )\n",
    "    return subsequent_mask == 0\n",
    "def greedy_decode(model, src, src_mask, max_len, start_symbol):\n",
    "    memory = model.encode(src, src_mask)\n",
    "    ys = torch.zeros(1, 1).fill_(start_symbol).type_as(src.data)\n",
    "    for i in range(max_len - 1):\n",
    "        out = model.decode(\n",
    "            memory, src_mask, ys, subsequent_mask(ys.size(1)).type_as(src.data)\n",
    "        )\n",
    "        prob = model.generator(out[:, -1])\n",
    "        _, next_word = torch.max(prob, dim=1)\n",
    "        next_word = next_word.data[0]\n",
    "        ys = torch.cat(\n",
    "            [ys, torch.zeros(1, 1).type_as(src.data).fill_(next_word)], dim=1\n",
    "        )\n",
    "    return ys"
   ]
  },
  {
   "cell_type": "code",
   "execution_count": null,
   "metadata": {},
   "outputs": [],
   "source": [
    "def make_model(\n",
    "    src_vocab, tgt_vocab, N=6, d_model=512, d_ff=2048, h=8, dropout=0.1\n",
    "):\n",
    "    \"Helper: Construct a model from hyperparameters.\"\n",
    "    c = copy.deepcopy\n",
    "    attn = MultiHeadedAttention(h, d_model)\n",
    "    ff = PositionwiseFeedForward(d_model, d_ff, dropout)\n",
    "    position = PositionalEncoding(d_model, dropout)\n",
    "    model = EncoderDecoder(\n",
    "        Encoder(EncoderLayer(d_model, c(attn), c(ff), dropout), N),\n",
    "        Decoder(DecoderLayer(d_model, c(attn), c(attn), c(ff), dropout), N),\n",
    "        nn.Sequential(Embeddings(d_model, src_vocab), c(position)),\n",
    "        nn.Sequential(Embeddings(d_model, tgt_vocab), c(position)),\n",
    "        Generator(d_model, tgt_vocab),\n",
    "    )\n",
    "\n",
    "    # This was important from their code.\n",
    "    # Initialize parameters with Glorot / fan_avg.\n",
    "    for p in model.parameters():\n",
    "        if p.dim() > 1:\n",
    "            nn.init.xavier_uniform_(p)\n",
    "    return model"
   ]
  },
  {
   "attachments": {},
   "cell_type": "markdown",
   "metadata": {},
   "source": [
    "# Testing"
   ]
  },
  {
   "cell_type": "code",
   "execution_count": 56,
   "metadata": {},
   "outputs": [],
   "source": [
    "class PositionalEncoding(nn.Module):\n",
    "    \"Implement the PE function.\"\n",
    "\n",
    "    def __init__(self, d_model, dropout, max_len=5000):\n",
    "        super(PositionalEncoding, self).__init__()\n",
    "        self.dropout = nn.Dropout(p=dropout)\n",
    "\n",
    "        # Compute the positional encodings once in log space.\n",
    "        pe = torch.zeros(max_len, d_model)\n",
    "        position = torch.arange(0, max_len).unsqueeze(1)\n",
    "        div_term = torch.exp(\n",
    "            torch.arange(0, d_model, 2) * -(math.log(10000.0) / d_model)\n",
    "        )\n",
    "        pe[:, 0::2] = torch.sin(position * div_term)\n",
    "        pe[:, 1::2] = torch.cos(position * div_term)\n",
    "        pe = pe.unsqueeze(0)\n",
    "        self.register_buffer(\"pe\", pe)\n",
    "\n",
    "    def forward(self, x):\n",
    "        print(x.shape)\n",
    "        print(self.pe.shape)\n",
    "        x = x + self.pe[:, : x.size(1)].requires_grad_(False)\n",
    "        return self.dropout(x)\n",
    "\n",
    "class TestClass(nn.Module):\n",
    "    def __init__(self,position):\n",
    "        super(TestClass,self).__init__()\n",
    "        self.layer = nn.Sequential(nn.Embedding(1000, 512),position)\n",
    "    \n",
    "    def forward(self,x):\n",
    "        return self.layer(x)\n"
   ]
  },
  {
   "cell_type": "code",
   "execution_count": 69,
   "metadata": {},
   "outputs": [
    {
     "name": "stdout",
     "output_type": "stream",
     "text": [
      "torch.Size([2, 3])\n",
      "torch.Size([2, 3, 512])\n",
      "torch.Size([1, 5000, 512])\n",
      "torch.Size([2, 3, 512])\n"
     ]
    },
    {
     "data": {
      "text/plain": [
       "tensor([[[ 0.1705,  2.2181, -0.0212,  ...,  0.8106,  0.7591, -0.2599],\n",
       "         [-0.0576,  1.6933,  1.4200,  ...,  1.1282, -1.1444,  1.1106],\n",
       "         [ 2.3810,  0.7858,  0.2128,  ...,  1.8807,  0.8289,  2.0980]],\n",
       "\n",
       "        [[ 1.4717,  2.2020, -0.7236,  ...,  1.8807,  0.8287,  2.0980],\n",
       "         [ 3.0392, -0.1269,  1.9517,  ..., -0.2170, -0.0198,  1.2920],\n",
       "         [ 0.0102,  0.7368,  1.5346,  ...,  1.1282, -1.1442,  1.1106]]],\n",
       "       grad_fn=<AddBackward0>)"
      ]
     },
     "execution_count": 69,
     "metadata": {},
     "output_type": "execute_result"
    }
   ],
   "source": [
    "position = PositionalEncoding(512, 0)\n",
    "test = TestClass(position)\n",
    "print(input.shape)\n",
    "out = test(data)\n",
    "print(out.shape)\n",
    "out"
   ]
  },
  {
   "cell_type": "code",
   "execution_count": 53,
   "metadata": {},
   "outputs": [
    {
     "name": "stdout",
     "output_type": "stream",
     "text": [
      "torch.Size([1, 1000, 20])\n"
     ]
    },
    {
     "data": {
      "text/plain": [
       "torch.Size([1, 10, 20])"
      ]
     },
     "execution_count": 53,
     "metadata": {},
     "output_type": "execute_result"
    }
   ],
   "source": [
    "print(pe.shape)\n",
    "pe[:, : 10].shape"
   ]
  },
  {
   "cell_type": "code",
   "execution_count": 4,
   "metadata": {},
   "outputs": [
    {
     "data": {
      "text/plain": [
       "torch.Tensor"
      ]
     },
     "execution_count": 4,
     "metadata": {},
     "output_type": "execute_result"
    }
   ],
   "source": [
    "type(torch.exp(torch.arange(0, 20, 2, dtype=torch.float32) * -(math.log(10000.0) / 20)))"
   ]
  },
  {
   "cell_type": "code",
   "execution_count": 3,
   "metadata": {},
   "outputs": [
    {
     "data": {
      "text/plain": [
       "tensor([ 0.,  2.,  4.,  6.,  8., 10., 12., 14., 16., 18.])"
      ]
     },
     "execution_count": 3,
     "metadata": {},
     "output_type": "execute_result"
    }
   ],
   "source": [
    "torch.arange(0, 20, 2, dtype=torch.float)"
   ]
  },
  {
   "cell_type": "code",
   "execution_count": 2,
   "metadata": {},
   "outputs": [],
   "source": [
    "V=11; batch_size = 30\n",
    "data = torch.randint(1, V, size=(batch_size, 10))\n",
    "data[:, 0] = 1\n",
    "src = data.requires_grad_(False).clone().detach()\n",
    "tgt = data.requires_grad_(False).clone().detach()"
   ]
  },
  {
   "cell_type": "code",
   "execution_count": 10,
   "metadata": {},
   "outputs": [
    {
     "data": {
      "text/plain": [
       "(array([], dtype=int64), array([], dtype=int64))"
      ]
     },
     "execution_count": 10,
     "metadata": {},
     "output_type": "execute_result"
    }
   ],
   "source": [
    "np.where(src!=tgt)"
   ]
  },
  {
   "cell_type": "code",
   "execution_count": 22,
   "metadata": {},
   "outputs": [
    {
     "name": "stdout",
     "output_type": "stream",
     "text": [
      "tensor([[  0,   0,   0],\n",
      "        [  0,  50, 100],\n",
      "        [  0, 100, 200],\n",
      "        [  0, 150, 300]])\n",
      "tensor([[ 0.0000,  1.0000,  0.0000,  1.0000,  0.0000,  1.0000],\n",
      "        [ 0.0000,  1.0000, -0.2624,  0.9650, -0.5064,  0.8623],\n",
      "        [ 0.0000,  1.0000, -0.5064,  0.8623, -0.8733,  0.4872],\n",
      "        [ 0.0000,  1.0000, -0.7149,  0.6993, -0.9998, -0.0221]])\n"
     ]
    }
   ],
   "source": [
    "arr = torch.zeros(4,6)\n",
    "tmp = (torch.arange(0,17,5).unsqueeze(1)*torch.arange(0,30,10))\n",
    "print(tmp)\n",
    "arr[:,0::2]=torch.sin(tmp)\n",
    "arr[:,1::2]=torch.cos(tmp)\n",
    "print(arr)"
   ]
  },
  {
   "cell_type": "code",
   "execution_count": 78,
   "metadata": {},
   "outputs": [
    {
     "name": "stdout",
     "output_type": "stream",
     "text": [
      "tensor([[0.8151, 1.3661, 1.1932]], grad_fn=<EmbeddingBackward0>)\n"
     ]
    }
   ],
   "source": [
    "# an Embedding module containing 10 tensors of size 3\n",
    "embedding = nn.Embedding(100, 3)\n",
    "# a batch of 2 samples of 4 indices each\n",
    "input = torch.LongTensor([[1,2,4],[4,3,2]])\n",
    "input = torch.randn(1)\n",
    "input = input.long()\n",
    "embedding(input)\n",
    "print(embedding(input))\n",
    "\n"
   ]
  },
  {
   "cell_type": "code",
   "execution_count": 42,
   "metadata": {},
   "outputs": [
    {
     "name": "stdout",
     "output_type": "stream",
     "text": [
      "tensor([[[ 0.0326,  1.5697,  2.0568],\n",
      "         [-0.0909, -0.0345, -0.1071],\n",
      "         [ 0.0105, -0.3593,  0.5579],\n",
      "         [-0.0909, -0.0345, -0.1071]],\n",
      "\n",
      "        [[ 0.0105, -0.3593,  0.5579],\n",
      "         [ 0.5077,  0.0521,  0.0648],\n",
      "         [-0.0909, -0.0345, -0.1071],\n",
      "         [ 0.0326,  1.5697,  2.0568]]], grad_fn=<EmbeddingBackward0>)\n"
     ]
    }
   ],
   "source": [
    "# an Embedding module containing 10 tensors of size 3\n",
    "embedding = nn.Embedding(5, 3)\n",
    "# a batch of 2 samples of 4 indices each\n",
    "input = torch.LongTensor([[1,2,4,2],[4,3,2,1]])\n",
    "embedding(input)\n",
    "print(embedding(input))\n",
    "\n"
   ]
  },
  {
   "attachments": {},
   "cell_type": "markdown",
   "metadata": {},
   "source": [
    "# Old Code"
   ]
  },
  {
   "cell_type": "code",
   "execution_count": 70,
   "metadata": {},
   "outputs": [
    {
     "name": "stdout",
     "output_type": "stream",
     "text": [
      "torch.Size([2, 3, 512])\n",
      "tensor([[[-0.0382,  0.7443, -0.7847,  ..., -0.3645, -1.9231, -0.4937],\n",
      "         [ 1.9632,  0.8879,  0.8878,  ..., -0.4422,  0.0637,  0.5649],\n",
      "         [ 0.0391,  0.8868,  0.8470,  ...,  0.4675, -1.5627,  1.2016]],\n",
      "\n",
      "        [[ 0.0391,  0.8868,  0.8470,  ...,  0.4675, -1.5627,  1.2016],\n",
      "         [ 1.6990,  1.3319, -0.3974,  ..., -1.2178,  0.6342, -0.0397],\n",
      "         [ 1.9632,  0.8879,  0.8878,  ..., -0.4422,  0.0637,  0.5649]]],\n",
      "       grad_fn=<EmbeddingBackward0>)\n"
     ]
    }
   ],
   "source": [
    "#Embedding\n",
    "#Embedding only works for discrete (Can we just set a ridiculously large embedding and treat continuous values as discrete)(Can we use convolutional kernels possibly?)\n",
    "#Embedding embedds and then creates linear layers to make the v,k,q from same data,then process through scaled product attention, concat and apply final linear.\n",
    "class EmbeddingLayer(nn.Module):\n",
    "    def __init__(self,dic_size,dim,size):\n",
    "        super().__init__()\n",
    "        # self.dc = dic_size\n",
    "        self.dim = dim\n",
    "        self.embedding = nn.Embedding(dic_size,dim)\n",
    "        self.pe = positional_encoding(dim,size)\n",
    "\n",
    "    def forward(self,x):\n",
    "        x = self.embedding(x) \n",
    "        #x = x* math.sqrt(self.dim)\n",
    "        print(x.shape)\n",
    "        #x = x + self.pe\n",
    "        return x,pe\n",
    "\n",
    "\n",
    "\n",
    "class AttentionHead(nn.Module):\n",
    "    def __init__(self,l_layer):\n",
    "        super().__init__()\n",
    "        \n",
    "        self.l1 = nn.Linear(l_layer,l_layer)\n",
    "        self.l2 = nn.Linear(l_layer,l_layer)\n",
    "        self.l3 = nn.Linear(l_layer,l_layer)\n",
    "    def forward(self,x):\n",
    "        q = f.relu(self.l1(x))\n",
    "        k = f.relu(self.l2(x))\n",
    "        v = f.relu(self.l3(x))\n",
    "        return(x,q,k,v)\n",
    "\n",
    "\n",
    "input = torch.LongTensor([[1,2,4],[4,3,2]])\n",
    "data = input\n",
    "dic_size = 1000;embed_size=512;attn_layer_size = embed_size\n",
    "el = EmbeddingLayer(dic_size,embed_size,input.shape[1])\n",
    "# print(type(data))\n",
    "embed,pe = el(data)\n",
    "print(embed)\n",
    "attnhead = AttentionHead(attn_layer_size)\n",
    "# print(attnhead(embed)[1])\n",
    "# attnhead(embed)[1]"
   ]
  },
  {
   "cell_type": "code",
   "execution_count": null,
   "metadata": {},
   "outputs": [],
   "source": []
  }
 ],
 "metadata": {
  "kernelspec": {
   "display_name": "vis10",
   "language": "python",
   "name": "python3"
  },
  "language_info": {
   "codemirror_mode": {
    "name": "ipython",
    "version": 3
   },
   "file_extension": ".py",
   "mimetype": "text/x-python",
   "name": "python",
   "nbconvert_exporter": "python",
   "pygments_lexer": "ipython3",
   "version": "3.8.10 (default, Jun 22 2022, 20:18:18) \n[GCC 9.4.0]"
  },
  "orig_nbformat": 4,
  "vscode": {
   "interpreter": {
    "hash": "e5328d19f01c96b26b2b58c1c0757ffb719f3cd8060448ceb902d5879c439f16"
   }
  }
 },
 "nbformat": 4,
 "nbformat_minor": 2
}
