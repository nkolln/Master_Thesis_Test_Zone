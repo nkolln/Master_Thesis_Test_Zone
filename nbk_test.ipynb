{
 "cells": [
  {
   "cell_type": "code",
   "execution_count": null,
   "metadata": {},
   "outputs": [],
   "source": []
  }
 ],
 "metadata": {
  "kernelspec": {
   "display_name": "Python 3.8.10 ('mt': venv)",
   "language": "python",
   "name": "python3"
  },
  "language_info": {
   "name": "python",
   "version": "3.8.10"
  },
  "orig_nbformat": 4,
  "vscode": {
   "interpreter": {
    "hash": "8e64422593460f44d7c8dbe596ab1a2d5619deeb3cb8a5d5e3e760abe7c719a7"
   }
  }
 },
 "nbformat": 4,
 "nbformat_minor": 2
}
